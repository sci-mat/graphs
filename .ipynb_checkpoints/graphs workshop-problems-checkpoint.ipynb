{
 "cells": [
  {
   "cell_type": "markdown",
   "id": "92fc2d49",
   "metadata": {},
   "source": [
    "# Graphs: Types, Importance, Simple Implementation, and a Couple of Algorithms\n",
    "\n",
    "## by Sci-Mat\n",
    "\n",
    "## Couple of things to remember:\n",
    "\n",
    "1. Don't fret on the language, we believe it's just syntax rather grasp the ideas presented in the lecture in an abstract sense.\n",
    "2. Any mistakes, doubts, complaints: Contact us on <a href=\"mailto:sci-mat@bmu.edu.in\">sci-mat@bmu.edu.in</a>. We'd be more than happy to reply to them."
   ]
  },
  {
   "cell_type": "markdown",
   "id": "df8d2491",
   "metadata": {},
   "source": [
    "## Types\n",
    "\n",
    "There's a whole bunch of graphs but mostly their types boil down to their nature:\n",
    "\n",
    "1. Are they **directed**? [Directed/Undirected]\n",
    "2. Are they **weighted**? [Weighted/Unweighted]\n",
    "3. Do they have **cycles** in them? [Cyclic/Acyclic]\n",
    "\n",
    "Visit this [website](https://isaaccomputerscience.org/concepts/dsa_datastruct_graph?examBoard=all&stage=all) for more information.\n",
    "\n",
    "Today we'll be looking at the simplest: Undirected graphs."
   ]
  },
  {
   "cell_type": "markdown",
   "id": "69d7e9bb",
   "metadata": {},
   "source": [
    "## Importance\n",
    "\n",
    "Read on [Graph Theory](https://en.wikipedia.org/wiki/Graph_theory)"
   ]
  },
  {
   "cell_type": "markdown",
   "id": "320f25a3",
   "metadata": {},
   "source": [
    "## Simple Implementation"
   ]
  },
  {
   "cell_type": "markdown",
   "id": "428a3259",
   "metadata": {},
   "source": [
    "### Creating a Network\n",
    "\n",
    "Sci-Net is the new network founded by my club, and I have like 10 friends that I've had to force to join this network. Right now I'm sort of curious how I can design it better and maybe visualize some important information relating to the network."
   ]
  },
  {
   "cell_type": "markdown",
   "id": "37d304cd",
   "metadata": {},
   "source": [
    "### State of the Current Network\n",
    "\n",
    "1. Stored the names and ids of users in a list called users.\n",
    "2. Stored who is friends with whom in a separate list."
   ]
  },
  {
   "cell_type": "code",
   "execution_count": 1,
   "id": "cfbeab2f",
   "metadata": {},
   "outputs": [],
   "source": [
    "users = [\n",
    "    { \"id\": 0, \"name\": \"Hero\" },\n",
    "    { \"id\": 1, \"name\": \"Dunn\" },\n",
    "    { \"id\": 2, \"name\": \"Sue\" },\n",
    "    { \"id\": 3, \"name\": \"Chi\" },\n",
    "    { \"id\": 4, \"name\": \"Thor\" },\n",
    "    { \"id\": 5, \"name\": \"Clive\" },\n",
    "    { \"id\": 6, \"name\": \"Hicks\" },\n",
    "    { \"id\": 7, \"name\": \"Devin\" },\n",
    "    { \"id\": 8, \"name\": \"Kate\" },\n",
    "]\n",
    "\n",
    "friendship_pairs = [(0, 1), (0, 2), (1, 2), (1, 3), (2, 3), (3, 4),\n",
    "                    (4, 5), (5, 6), (5, 7), (6, 8), (7, 8)]"
   ]
  },
  {
   "cell_type": "code",
   "execution_count": 2,
   "id": "eb91de76",
   "metadata": {},
   "outputs": [],
   "source": [
    "# write functions to add users and connections to the network\n",
    "\n",
    "def add_user(existing_users, new_user):\n",
    "    # make a copy of the existing_users in a list called renewed_users\n",
    "    \n",
    "    # append the new_user to the renewed_users\n",
    "    \n",
    "    return renewed_users\n",
    "\n",
    "def add_connection(existing_friendship_pairs, id_1, id_2):\n",
    "    # check if id_1 is equal to id_2\n",
    "    # if it is then print out that this peson can't be friends with themselves\n",
    "    # else create a copy of existing_friendship_pairs\n",
    "    # in renewed_friendship_pairs\n",
    "    \n",
    "    # and append the tuple of id_1 and id_2 to renewed_friendship_pairs\n",
    "    return renewed_friendship_pairs"
   ]
  },
  {
   "cell_type": "code",
   "execution_count": 3,
   "id": "0e66d59f",
   "metadata": {},
   "outputs": [
    {
     "name": "stdout",
     "output_type": "stream",
     "text": [
      "[{'id': 0, 'name': 'Hero'}, {'id': 1, 'name': 'Dunn'}, {'id': 2, 'name': 'Sue'}, {'id': 3, 'name': 'Chi'}, {'id': 4, 'name': 'Thor'}, {'id': 5, 'name': 'Clive'}, {'id': 6, 'name': 'Hicks'}, {'id': 7, 'name': 'Devin'}, {'id': 8, 'name': 'Kate'}, {'id': 9, 'name': 'Klein'}]\n"
     ]
    }
   ],
   "source": [
    "# check whether the new user has been added to the netwrok\n",
    "\n",
    "users = add_user(users, { \"id\": 9, \"name\": \"Klein\" })\n",
    "print(users)"
   ]
  },
  {
   "cell_type": "code",
   "execution_count": 4,
   "id": "7efd6af8",
   "metadata": {},
   "outputs": [
    {
     "name": "stdout",
     "output_type": "stream",
     "text": [
      "[(0, 1), (0, 2), (1, 2), (1, 3), (2, 3), (3, 4), (4, 5), (5, 6), (5, 7), (6, 8), (7, 8), (8, 9)]\n"
     ]
    }
   ],
   "source": [
    "# check whether the new connection has been created\n",
    "\n",
    "friendship_pairs = add_connection(friendship_pairs, 8, 9)\n",
    "print(friendship_pairs)"
   ]
  },
  {
   "cell_type": "code",
   "execution_count": 5,
   "id": "0d894ef3",
   "metadata": {},
   "outputs": [
    {
     "name": "stdout",
     "output_type": "stream",
     "text": [
      "Sorry, 8 can't friend themself:(\n"
     ]
    }
   ],
   "source": [
    "# check whether id = 8 can friend themselves.\n",
    "\n",
    "friendship_pairs = add_connection(friendship_pairs, 8, 8)"
   ]
  },
  {
   "cell_type": "markdown",
   "id": "561a0f38",
   "metadata": {},
   "source": [
    "### Visualizing the friendship pairs\n",
    "\n",
    "![](friends.png)"
   ]
  },
  {
   "cell_type": "markdown",
   "id": "bce03303",
   "metadata": {},
   "source": [
    "### Creating an Adjacency List\n",
    "\n",
    "Adjacency matrix vs. List\n",
    "\n",
    "![](images/adjacencylist.jpg)\n",
    "\n",
    "Create an adjacency list that looks like this:\n",
    "\n",
    "```\n",
    "0 -->[1, 2]\n",
    "1 -->[0, 2, 3]\n",
    "2 -->[0, 1, 3]\n",
    "3 -->[1, 2, 4]\n",
    "...\n",
    "```"
   ]
  },
  {
   "cell_type": "code",
   "execution_count": 6,
   "id": "5161adab",
   "metadata": {},
   "outputs": [],
   "source": [
    "# Initialize the dict with an empty list for each user id:\n",
    "friendships = {user[\"id\"]: [] for user in users}\n",
    "\n",
    "# And loop over the friendship pairs to populate it:\n",
    "for i, j in friendship_pairs:\n",
    "    # Add j as a friend of user i\n",
    "    \n",
    "    # Add i as a friend of user j"
   ]
  },
  {
   "cell_type": "code",
   "execution_count": 7,
   "id": "0e5702cc",
   "metadata": {},
   "outputs": [
    {
     "name": "stdout",
     "output_type": "stream",
     "text": [
      "{0: [1, 2], 1: [0, 2, 3], 2: [0, 1, 3], 3: [1, 2, 4], 4: [3, 5], 5: [4, 6, 7], 6: [5, 8], 7: [5, 8], 8: [6, 7, 9], 9: [8]}\n"
     ]
    }
   ],
   "source": [
    "# basically becomes an adjacency list\n",
    "\n",
    "print(friendships)"
   ]
  },
  {
   "cell_type": "code",
   "execution_count": 8,
   "id": "6a0747ac",
   "metadata": {},
   "outputs": [
    {
     "name": "stdout",
     "output_type": "stream",
     "text": [
      "0 -->[1, 2]\n",
      "1 -->[0, 2, 3]\n",
      "2 -->[0, 1, 3]\n",
      "3 -->[1, 2, 4]\n",
      "4 -->[3, 5]\n",
      "5 -->[4, 6, 7]\n",
      "6 -->[5, 8]\n",
      "7 -->[5, 8]\n",
      "8 -->[6, 7, 9]\n",
      "9 -->[8]\n"
     ]
    }
   ],
   "source": [
    "# nicely printing that adj list\n",
    "\n",
    "for key, val in friendships.items():\n",
    "    # print user_id and freinds lis"
   ]
  },
  {
   "cell_type": "markdown",
   "id": "0901e93a",
   "metadata": {},
   "source": [
    "### Count how many friends each user has\n",
    "\n",
    "Devin has joined the network but now he comes to you complaining about the website. He can't see the number of friends he has made on the network. Help him find the exact number of friends he has made on Sci-Net.\n",
    "\n",
    "![Devin Friend Count](images/2.png)"
   ]
  },
  {
   "cell_type": "code",
   "execution_count": 9,
   "id": "491331d2",
   "metadata": {},
   "outputs": [
    {
     "name": "stdout",
     "output_type": "stream",
     "text": [
      "Devin has 2 friends.\n"
     ]
    }
   ],
   "source": [
    "# let's say I wanted to know how many friends Devin has?\n",
    "\n",
    "name = \"Devin\"\n",
    "\n",
    "# step 1: find Devin's in the network\n",
    "def find_id(users, name):\n",
    "    \n",
    "    # initialize id_user to -1\n",
    "    # if the user doesn't exist then id_user stays -1\n",
    "    id_user = -1\n",
    "    \n",
    "    # do a linear search to find the id in the user database\n",
    "    # if it exists then store the id in id_user\n",
    "    \n",
    "    # if id_user is still equal to -1 then \n",
    "    # print that this person isn't on the network\n",
    "    \n",
    "    return id_user\n",
    "\n",
    "# step 2: see the length of that adj list\n",
    "def find_friends_of_id(friendships, id_user):\n",
    "    # return the length of the list stored at the id_user\n",
    "    return \n",
    "\n",
    "id_devin = find_id(users, name)\n",
    "no_friends_devin = find_friends_of_id(friendships, id_devin)\n",
    "print(\"Devin has \" + str(no_friends_devin) + \" friends.\")"
   ]
  },
  {
   "cell_type": "markdown",
   "id": "76830797",
   "metadata": {},
   "source": [
    "### Print the names of all the friends a user has\n",
    "\n",
    "Right now you're working on a website for Sci-Net and that area on the website which lists all the friends a user has is pretty empty.\n",
    "\n",
    "![Show names](images/1.png)"
   ]
  },
  {
   "cell_type": "code",
   "execution_count": 10,
   "id": "3d682452",
   "metadata": {},
   "outputs": [
    {
     "name": "stdout",
     "output_type": "stream",
     "text": [
      "Kate's id:  8\n",
      "The ids of the friends of Kate is:  [6, 7, 9]\n",
      "Kate's friends are:  ['Hicks', 'Devin', 'Klein']\n"
     ]
    }
   ],
   "source": [
    "# Print all the people that are friends with Kate\n",
    "\n",
    "name = \"Kate\"\n",
    "id_kate = find_id(users, name)\n",
    "print(\"Kate's id: \", id_kate)\n",
    "\n",
    "# step 1: make a function to to return the ids of the friends of the user\n",
    "def ids_of_friends(friendships, id_user):\n",
    "    # return all the ids of friends stored for id_user in the adj list\n",
    "    return friendships[id_user]\n",
    "\n",
    "# step 2: get kate's friends' ids\n",
    "friend_ids_kate = ids_of_friends(friendships, id_kate)\n",
    "print(\"The ids of the friends of Kate is: \", friend_ids_kate)\n",
    "\n",
    "# step 3: create a function that takes a user's id and returns the name\n",
    "def find_name(users, id_user):\n",
    "    # takes in id and returns the name\n",
    "\n",
    "# create a function that returns a list of the names of all the friends given their ids\n",
    "def find_all_friend_names(friend_ids):\n",
    "    friend_names = []\n",
    "    # for each id append the name of the user to the friend_names list\n",
    "    return friend_names\n",
    "\n",
    "kates_friends = find_all_friend_names(friend_ids_kate)\n",
    "print(\"Kate's friends are: \", kates_friends)"
   ]
  },
  {
   "cell_type": "markdown",
   "id": "865da5e8",
   "metadata": {},
   "source": [
    "### Average Connections someone has on the network\n",
    "\n",
    "A friend of yours comes around and wants to know how many friends on average can a person make on Sci-Net before joining the network. You realize this type of statistic is important for you to know to capatilize on the success of the network."
   ]
  },
  {
   "cell_type": "code",
   "execution_count": 11,
   "id": "13319d59",
   "metadata": {},
   "outputs": [
    {
     "name": "stdout",
     "output_type": "stream",
     "text": [
      "The average connections on the network:  2.4\n"
     ]
    }
   ],
   "source": [
    "def avg_connections(friendships):\n",
    "    # current_users is a number that contains \n",
    "    # the number of people that are on the network\n",
    "    \n",
    "    \n",
    "    # total_friends_made contains the \n",
    "    # number of connections made on the network\n",
    "    total_friends_made = 0\n",
    "    \n",
    "    \n",
    "    return total_friends_made / current_users\n",
    "\n",
    "avg = avg_connections(friendships)\n",
    "print(\"The average connections on the network: \", avg)"
   ]
  },
  {
   "cell_type": "markdown",
   "id": "e9dfc998",
   "metadata": {},
   "source": [
    "Content from:\n",
    "\n",
    "1. Joel Grus, \"Data Science from Scratch\"\n",
    "2. A good video to go through after this: https://www.youtube.com/watch?v=tWVWeAqZ0WU&t=6096s\n",
    "3. https://cp-algorithms.com/\n",
    "\n",
    "This content has been graciously reviewed by Chhavi Lodha."
   ]
  }
 ],
 "metadata": {
  "kernelspec": {
   "display_name": "Python 3",
   "language": "python",
   "name": "python3"
  },
  "language_info": {
   "codemirror_mode": {
    "name": "ipython",
    "version": 3
   },
   "file_extension": ".py",
   "mimetype": "text/x-python",
   "name": "python",
   "nbconvert_exporter": "python",
   "pygments_lexer": "ipython3",
   "version": "3.9.7"
  }
 },
 "nbformat": 4,
 "nbformat_minor": 5
}
